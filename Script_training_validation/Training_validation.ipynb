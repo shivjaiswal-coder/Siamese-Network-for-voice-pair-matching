{
  "nbformat": 4,
  "nbformat_minor": 0,
  "metadata": {
    "colab": {
      "name": "Team_Congruent@Prism",
      "provenance": [],
      "collapsed_sections": [],
      "toc_visible": true
    },
    "kernelspec": {
      "display_name": "Python 3",
      "name": "python3"
    },
    "language_info": {
      "name": "python"
    },
    "accelerator": "GPU"
  },
  "cells": [
    {
      "cell_type": "markdown",
      "metadata": {
        "id": "oVVjlqAuELf0"
      },
      "source": [
        "# **Name Calling by Samsung PRISM** \n",
        "*   This code is implemented by the Team **Congruent.**\n",
        "###**The Team Members are :**\n",
        "            Swaraj Gupta (swaraj.gupta217@gmail.com)\n",
        "            Shiv Jaiswal (shivjaiswal2000@gmail.com)\n",
        "            Mayank Goyal (goyalmayank522@gmail.com)\n",
        "\n",
        "\n",
        "\n",
        "\n",
        "\n",
        "\n",
        "\n"
      ]
    },
    {
      "cell_type": "code",
      "metadata": {
        "id": "LmS5uKKeHOAA",
        "colab": {
          "base_uri": "https://localhost:8080/"
        },
        "outputId": "b18f8f6b-904a-4604-c904-5b2ae4d728a9"
      },
      "source": [
        "from google.colab import drive\n",
        "drive.mount('/content/drive')"
      ],
      "execution_count": 1,
      "outputs": [
        {
          "output_type": "stream",
          "text": [
            "Drive already mounted at /content/drive; to attempt to forcibly remount, call drive.mount(\"/content/drive\", force_remount=True).\n"
          ],
          "name": "stdout"
        }
      ]
    },
    {
      "cell_type": "markdown",
      "metadata": {
        "id": "vXYe1BH2xGnB"
      },
      "source": [
        "#**Importing Required Libraries/Dependencies**"
      ]
    },
    {
      "cell_type": "code",
      "metadata": {
        "id": "vi_xEelowvG8"
      },
      "source": [
        "import os\n",
        "import librosa\n",
        "import librosa.display\n",
        "import pandas as pd\n",
        "import numpy as np\n",
        "import matplotlib.pyplot as plt\n",
        "%matplotlib inline\n",
        "import skimage.io\n",
        "import sklearn\n",
        "\n",
        "import cv2\n",
        "from google.colab.patches import cv2_imshow\n",
        "\n",
        "import tensorflow as tf\n",
        "from keras import backend as K\n",
        "import tensorflow.keras as keras\n",
        "from tensorflow.keras import regularizers\n",
        "from tensorflow.keras.models import Model\n",
        "from tensorflow.keras.layers import Input, Flatten, Dense, Dropout, Lambda\n",
        "from tensorflow.keras.layers import Conv2D, Activation,AveragePooling2D,MaxPooling2D,GlobalAveragePooling2D,BatchNormalization\n",
        "from keras.optimizers import Adam"
      ],
      "execution_count": 245,
      "outputs": []
    },
    {
      "cell_type": "markdown",
      "metadata": {
        "id": "Cq9Ti0XryHLn"
      },
      "source": [
        "#**Path to the train and test wav**\n",
        "\n",
        "* The dataset used for training and testing purpose is taken from google drive.\n",
        "* The train_wav folder consists of 1000 wav files for training.\n",
        "* The test_wav folder consists of 260 wav files for testing.\n",
        "* The dataset consists of 20 different name variations. \n",
        "* Length of each audio file is <= 1sec and stored in wav format."
      ]
    },
    {
      "cell_type": "code",
      "metadata": {
        "id": "TYbHl4j-yGjI"
      },
      "source": [
        "path_to_train_wav='/content/drive/MyDrive/prism_dataset/train_wav'\n",
        "path_to_test_wav='/content/drive/MyDrive/prism_dataset/test_wav'"
      ],
      "execution_count": 3,
      "outputs": []
    },
    {
      "cell_type": "markdown",
      "metadata": {
        "id": "KwtNC0SMfPa9"
      },
      "source": [
        "#**Defining Class Labels & other Variables**\n",
        "\n",
        "* The dataset is trained on 20 different name variations.\n",
        "* List (labels) is used for labeling the training and testing data point.\n",
        "* List are initialized which will hold the training and testing set later."
      ]
    },
    {
      "cell_type": "code",
      "metadata": {
        "id": "L5nkaSuk5u4v"
      },
      "source": [
        "labels = 'abhishek anmol anurag deewanshu himanshu kishan mayank narender neeraj prince ritvik sayan shiv shreyas shubham siddharth sourav swaraj utkarsh vikrant'.split()\n",
        "\n",
        "# empty list to hold training and testing set later.\n",
        "train_data = []\n",
        "train_label = []\n",
        "test_data = []\n",
        "test_label = []"
      ],
      "execution_count": 4,
      "outputs": []
    },
    {
      "cell_type": "markdown",
      "metadata": {
        "id": "HST0y0MqylPJ"
      },
      "source": [
        "#**Data Preprocessing**\n",
        "* Scaling the mel-scaled spectogram between 0-1"
      ]
    },
    {
      "cell_type": "code",
      "metadata": {
        "id": "AppZz9J-yqKh"
      },
      "source": [
        "def scale_minmax(X, min=0.0, max=1.0):\n",
        "    X_std = (X - X.min()) / (X.max() - X.min())\n",
        "    X_scaled = X_std * (max - min) + min\n",
        "    return X_scaled"
      ],
      "execution_count": 5,
      "outputs": []
    },
    {
      "cell_type": "markdown",
      "metadata": {
        "id": "i-tDHQZTywPr"
      },
      "source": [
        "##**Extracting melspectogram feature corresponding to the training and testing wav files**\n",
        "\n",
        "* Each wav file is passed to the librosa.load function which return two parameter y and sr.\n",
        "* First one **Audio time-series** , y[t] correspond to amplitude of waveform at sample t. It is one-dimensional (numpy.ndarray) of floating-point values.\n",
        "* Second one is the **sample rate** which is explicity given a value of 16000.\n",
        "* The audio file is truncated if it's length is more than 1 second.\n",
        "* Also, the audio file is padded with 0 if it's length is less than 1 second.\n",
        "* After that, y is passed to the librosa.feature.spectogram function to compute a **mel-scaled spectrogram**.\n",
        "* Scaling the mel-scaled spectrogram between 0-1.\n",
        "* Finally, data array and label array are created for training and testing data."
      ]
    },
    {
      "cell_type": "code",
      "metadata": {
        "id": "OMi1xyvaywfA"
      },
      "source": [
        "# Creating data and label for training\n",
        "for filename in os.listdir(path_to_train_wav):\n",
        "    wavefile = path_to_train_wav  + '/' + str(filename)\n",
        "    y, sr = librosa.load(wavefile, mono=True,duration=1,sr=16000)\n",
        "    N = 16000-len(y)\n",
        "    y=np.pad(y, (0, N), 'constant')\n",
        "    melspec = librosa.feature.melspectrogram(y=y, sr=sr)\n",
        "    img = scale_minmax(melspec, 0, 255).astype(np.uint8) \n",
        "    image_array = np.expand_dims(img, axis=-1)\n",
        "    train_data.append(image_array)\n",
        "    for temp in range(len(labels)):\n",
        "        if labels[temp]== filename[:-7]:  \n",
        "            train_label.append(temp)\n",
        "            break"
      ],
      "execution_count": 6,
      "outputs": []
    },
    {
      "cell_type": "code",
      "metadata": {
        "id": "FdCSQW0ZIv8K"
      },
      "source": [
        "# Creating data and label for testing\n",
        "for filename in os.listdir(path_to_test_wav):\n",
        "    wavefile = path_to_test_wav  + '/' + str(filename)\n",
        "    y, sr = librosa.load(wavefile, mono=True,duration=1,sr=16000)\n",
        "    N = 16000-len(y)\n",
        "    y=np.pad(y, (0, N), 'constant')\n",
        "    melspec = librosa.feature.melspectrogram(y=y, sr=sr)\n",
        "    img = scale_minmax(melspec, 0, 255).astype(np.uint8)\n",
        "    image_array = np.expand_dims(img, axis=-1)\n",
        "    test_data.append(image_array)\n",
        "    for temp in range(len(labels)):\n",
        "        if labels[temp]== filename[:-7]:  \n",
        "            test_label.append(temp)\n",
        "            break"
      ],
      "execution_count": 7,
      "outputs": []
    },
    {
      "cell_type": "markdown",
      "metadata": {
        "id": "X6VOs4FMjC3R"
      },
      "source": [
        "##**Creating (x_train, y_train) for training  and (x_test, y_test) for testing dataset**"
      ]
    },
    {
      "cell_type": "markdown",
      "metadata": {
        "id": "qOOLSJJK-9nw"
      },
      "source": [
        "* The train_data, train_label, test_data & test_label lists are converted to numpy arrays.\n",
        "* Then x_train, y_train, x_test & y_test are created."
      ]
    },
    {
      "cell_type": "code",
      "metadata": {
        "id": "_n4I6Bit9ZYf"
      },
      "source": [
        "# Converting training images to training array\n",
        "train_data1 = np.asarray(train_data)\n",
        "train_label1 = np.asarray(train_label)\n",
        "\n",
        "# Converting testing images to testing array\n",
        "test_data1 = np.asarray(test_data)\n",
        "test_label1 = np.asarray(test_label)"
      ],
      "execution_count": 586,
      "outputs": []
    },
    {
      "cell_type": "code",
      "metadata": {
        "id": "K1ua-ra2n7tX",
        "colab": {
          "base_uri": "https://localhost:8080/"
        },
        "outputId": "3c6def1d-2ad9-48d1-f3b6-e79c6c337542"
      },
      "source": [
        "# Creating x_train and y_train\n",
        "x_train=train_data1\n",
        "y_train=train_label1\n",
        "\n",
        "# Creating x_test and y_test\n",
        "x_test=test_data1\n",
        "y_test=test_label1\n",
        "\n",
        "# # printing the shape of x_train and y_train\n",
        "# print(x_train.shape)\n",
        "# print(y_train.shape)\n",
        "\n",
        "# # printing the shape of x_test and y_test\n",
        "# print(x_test.shape)\n",
        "# print(y_test.shape)\n",
        "\n",
        "x_train = x_train.astype('float32')\n",
        "x_test = x_test.astype('float32')\n",
        "\n",
        "x_train /= 255\n",
        "x_test /= 255\n",
        " \n",
        "input_shape = x_train.shape[1:]\n",
        "print(x_train.shape)"
      ],
      "execution_count": 587,
      "outputs": [
        {
          "output_type": "stream",
          "text": [
            "(1000, 128, 32, 1)\n"
          ],
          "name": "stdout"
        }
      ]
    },
    {
      "cell_type": "markdown",
      "metadata": {
        "id": "ndW-QDNhkdDO"
      },
      "source": [
        "#**Function for creating positive-negative training testing pairs**\n",
        "\n",
        "* Positive Pair is created by picking a data point from one class and make pair with another data point from the same class (A1,A2,1).\n",
        "* Negative Pair is created by picking a data point from one class and make pair with another data point from the different class (A1,B1,0).\n",
        "* Value 1 and 0 repersent positive and negative pair respectively.\n",
        "* Number of pair created is doubled the number of data point present as one data point is used for making a positive pair and a negative pair."
      ]
    },
    {
      "cell_type": "code",
      "metadata": {
        "id": "IIM6wOaN6DnU"
      },
      "source": [
        "def create_pairs(images, labels):\n",
        "\t# initialize two empty lists to hold the (image, image) pairs and\n",
        "\t# labels to indicate if a pair is positive or negative\n",
        "\tpairImages = []\n",
        "\tpairLabels = []\n",
        "    # calculate the total number of classes present in the dataset\n",
        "\t# and then build a list of indexes for each class label that\n",
        "\t# provides the indexes for all examples with a given label\n",
        "\tnumClasses = len(np.unique(labels))\n",
        "\tidx = [np.where(labels == i)[0] for i in range(0, numClasses)]\n",
        "  # loop over all images\n",
        "\tfor idxA in range(len(images)):\n",
        "\t\t# grab the current image and label belonging to the current\n",
        "\t\t# iteration\n",
        "\t\tcurrentImage = images[idxA]\n",
        "\t\tlabel = labels[idxA]\n",
        "\t\t# randomly pick an image that belongs to the *same* class\n",
        "\t\t# label\n",
        "\t\tidxB = np.random.choice(idx[label])\n",
        "\t\tposImage = images[idxB]\n",
        "\t\t# prepare a positive pair and update the images and labels\n",
        "\t\t# lists, respectively\n",
        "\t\tpairImages.append([currentImage, posImage])\n",
        "\t\tpairLabels.append(1)\n",
        "    # grab the indices for each of the class labels *not* equal to\n",
        "\t\t# the current label and randomly pick an image corresponding\n",
        "\t\t# to a label *n ot* equal to the current label\n",
        "\t\tnegIdx = np.where(labels != label)[0]\n",
        "\t\tnegImage = images[np.random.choice(negIdx)]\n",
        "\t\t# prepare a negative pair of images and update our lists\n",
        "\t\tpairImages.append([currentImage, negImage])\n",
        "\t\tpairLabels.append(0)\n",
        "\t# return a 2-tuple of our image pairs and labels\n",
        "\treturn (np.array(pairImages), np.array(pairLabels))"
      ],
      "execution_count": 588,
      "outputs": []
    },
    {
      "cell_type": "markdown",
      "metadata": {
        "id": "PBX5z8LgnOry"
      },
      "source": [
        "#**Euclidean Distance function and Constrastive loss function**"
      ]
    },
    {
      "cell_type": "code",
      "metadata": {
        "id": "BrodEp-j6AH_"
      },
      "source": [
        "def euclid_dis(vects):\n",
        "  x,y = vects\n",
        "  sum_square = K.sum(K.square(x-y), axis=1, keepdims=True)\n",
        "  return K.sqrt(K.maximum(sum_square, K.epsilon()))\n",
        " \n",
        "def eucl_dist_output_shape(shapes):\n",
        "    shape1, shape2 = shapes\n",
        "    return (shape1[0], 1)\n",
        " \n",
        "def contrastive_loss(y_true, y_pred):\n",
        "    y_true=tf.dtypes.cast(y_true, tf.float64)\n",
        "    y_pred=tf.dtypes.cast(y_pred, tf.float64)\n",
        "    margin = 1\n",
        "    square_pred = K.square(y_pred)\n",
        "    margin_square = K.square(K.maximum(margin - y_pred, 0))\n",
        "    return K.mean(y_true * square_pred + (1-y_true) * margin_square)"
      ],
      "execution_count": 589,
      "outputs": []
    },
    {
      "cell_type": "markdown",
      "metadata": {
        "id": "IGKTIaB4q6p1"
      },
      "source": [
        "#**Accuracy function**\n"
      ]
    },
    {
      "cell_type": "code",
      "metadata": {
        "id": "9q4lr0ec6HcM"
      },
      "source": [
        "def compute_accuracy(y_true, y_pred):\n",
        "    # Compute classification accuracy with a fixed threshold on distances.\n",
        "    \n",
        "    pred = y_pred.ravel() < 0.5\n",
        "    return np.mean(pred == y_true)\n",
        " \n",
        " \n",
        "def accuracy(y_true, y_pred):\n",
        "    # Compute classification accuracy with a fixed threshold on distances.\n",
        "    \n",
        "    return K.mean(K.equal(y_true, K.cast(y_pred < 0.5, y_true.dtype)))"
      ],
      "execution_count": 590,
      "outputs": []
    },
    {
      "cell_type": "markdown",
      "metadata": {
        "id": "1RcNQsAomxH3"
      },
      "source": [
        "#**Creating the Positive and Negative image pairs**\n",
        "\n",
        "* Passing x_train and y_train for getting training pair and corresponding label.\n",
        "* Passing x_test and y_test for getting testing pair and corresponding label.\n",
        "* These pair is fitted to the siamese network for training and testing purpose."
      ]
    },
    {
      "cell_type": "code",
      "metadata": {
        "id": "xUJd7zbC6KKN"
      },
      "source": [
        "tr_pairs, tr_y = create_pairs(x_train, y_train)\n",
        "te_pairs, te_y = create_pairs(x_test, y_test)"
      ],
      "execution_count": 591,
      "outputs": []
    },
    {
      "cell_type": "markdown",
      "metadata": {
        "id": "wscBTLQGoFHE"
      },
      "source": [
        "#**Siamese CNN model**\n",
        "* The network consists of 2 Conv2D layer followed alternatively by two AveragePooling2D layer.\n",
        "* The activation function in both Conv2D and AveragePooling2D layer is given (tanh).\n",
        "* The number of neurons in first and second Conv2D is 4 and 16 respectively and the kernel size given is (5,5).\n",
        "* A flatten layer is taken followed by the last dense layer with activation (tanh)\n",
        "\n",
        "\n",
        "\n",
        "\n"
      ]
    },
    {
      "cell_type": "markdown",
      "metadata": {
        "id": "LbVvU-O2BFW8"
      },
      "source": [
        "## **Creating basic CNN network**"
      ]
    },
    {
      "cell_type": "code",
      "metadata": {
        "id": "ovT9rjFCTQ_p"
      },
      "source": [
        "def create_base_net(input_shape):\n",
        "   \n",
        "  input = Input(shape = input_shape)\n",
        "  x = Conv2D(4, (5,5), activation = 'tanh')(input)\n",
        "  x = AveragePooling2D(pool_size = (2,2))(x)\n",
        "  x = Dropout(0.85)(x)\n",
        "  x = Conv2D(8, (5,5), activation = 'tanh')(x)\n",
        "  x = AveragePooling2D(pool_size = (2,2))(x)\n",
        "  x = Dropout(0.35)(x)\n",
        "  x = Flatten()(x)\n",
        "  x = Dense(20, activation = 'tanh',kernel_regularizer=regularizers.l2(0.001))(x)\n",
        "  x = Dense(16, activation = 'sigmoid')(x)\n",
        "  model = Model(input, x)\n",
        "  model.summary()\n",
        "  return model\n",
        "  # require structure definition after finalizing it"
      ],
      "execution_count": 623,
      "outputs": []
    },
    {
      "cell_type": "code",
      "metadata": {
        "id": "vkiadE5RoC57",
        "colab": {
          "base_uri": "https://localhost:8080/"
        },
        "outputId": "3bae4c7a-c252-49cd-d1c4-d66b7a9975d8"
      },
      "source": [
        "base_network = create_base_net(input_shape)"
      ],
      "execution_count": 624,
      "outputs": [
        {
          "output_type": "stream",
          "text": [
            "Model: \"model_66\"\n",
            "_________________________________________________________________\n",
            "Layer (type)                 Output Shape              Param #   \n",
            "=================================================================\n",
            "input_99 (InputLayer)        [(None, 128, 32, 1)]      0         \n",
            "_________________________________________________________________\n",
            "conv2d_72 (Conv2D)           (None, 124, 28, 4)        104       \n",
            "_________________________________________________________________\n",
            "average_pooling2d_72 (Averag (None, 62, 14, 4)         0         \n",
            "_________________________________________________________________\n",
            "dropout_68 (Dropout)         (None, 62, 14, 4)         0         \n",
            "_________________________________________________________________\n",
            "conv2d_73 (Conv2D)           (None, 58, 10, 8)         808       \n",
            "_________________________________________________________________\n",
            "average_pooling2d_73 (Averag (None, 29, 5, 8)          0         \n",
            "_________________________________________________________________\n",
            "dropout_69 (Dropout)         (None, 29, 5, 8)          0         \n",
            "_________________________________________________________________\n",
            "flatten_36 (Flatten)         (None, 1160)              0         \n",
            "_________________________________________________________________\n",
            "dense_70 (Dense)             (None, 20)                23220     \n",
            "_________________________________________________________________\n",
            "dense_71 (Dense)             (None, 16)                336       \n",
            "=================================================================\n",
            "Total params: 24,468\n",
            "Trainable params: 24,468\n",
            "Non-trainable params: 0\n",
            "_________________________________________________________________\n"
          ],
          "name": "stdout"
        }
      ]
    },
    {
      "cell_type": "markdown",
      "metadata": {
        "id": "9BWTCJoLoeCv"
      },
      "source": [
        "##**Defining Siamese Network**\n",
        "\n"
      ]
    },
    {
      "cell_type": "code",
      "metadata": {
        "id": "M11a3xOzoUjY"
      },
      "source": [
        "input_a = Input(shape=input_shape)\n",
        "input_b = Input(shape=input_shape)\n",
        " \n",
        "processed_a = base_network(input_a)\n",
        "processed_b = base_network(input_b)\n",
        " \n",
        "distance = Lambda(euclid_dis, output_shape=eucl_dist_output_shape)([processed_a, processed_b])\n",
        "model = Model([input_a, input_b], distance)"
      ],
      "execution_count": 594,
      "outputs": []
    },
    {
      "cell_type": "markdown",
      "metadata": {
        "id": "KF4hctVco7qA"
      },
      "source": [
        "##**Compiling & Training the Model**\n",
        "* Loss: Contrastive loss\n",
        "* Optimizer: Adam\n",
        "* Batch size: 32\n",
        "* epochs: 150"
      ]
    },
    {
      "cell_type": "code",
      "metadata": {
        "id": "TaY1b36X6M98",
        "colab": {
          "base_uri": "https://localhost:8080/"
        },
        "outputId": "75ae0869-beb8-44f0-9b1c-560ef918ff69"
      },
      "source": [
        "model.compile(loss=contrastive_loss, optimizer='adam', metrics=[accuracy])\n",
        "history = model.fit([tr_pairs[:, 0], tr_pairs[:, 1]], tr_y,\n",
        "          batch_size=32,\n",
        "          epochs=150,\n",
        "          validation_data=([te_pairs[:, 0], te_pairs[:, 1]], te_y))  # callbacks=[EarlyStopping(monitor='loss', patience=4, min_delta=0.0001)],\n",
        "\n"
      ],
      "execution_count": 595,
      "outputs": [
        {
          "output_type": "stream",
          "text": [
            "Epoch 1/150\n",
            "63/63 [==============================] - 2s 13ms/step - loss: 0.3730 - accuracy: 0.5030 - val_loss: 0.3470 - val_accuracy: 0.5000\n",
            "Epoch 2/150\n",
            "63/63 [==============================] - 1s 9ms/step - loss: 0.2923 - accuracy: 0.5367 - val_loss: 0.3553 - val_accuracy: 0.5000\n",
            "Epoch 3/150\n",
            "63/63 [==============================] - 1s 9ms/step - loss: 0.2966 - accuracy: 0.5010 - val_loss: 0.3247 - val_accuracy: 0.5055\n",
            "Epoch 4/150\n",
            "63/63 [==============================] - 1s 9ms/step - loss: 0.2881 - accuracy: 0.5273 - val_loss: 0.3048 - val_accuracy: 0.5239\n",
            "Epoch 5/150\n",
            "63/63 [==============================] - 1s 9ms/step - loss: 0.2784 - accuracy: 0.5456 - val_loss: 0.2660 - val_accuracy: 0.5938\n",
            "Epoch 6/150\n",
            "63/63 [==============================] - 1s 9ms/step - loss: 0.2681 - accuracy: 0.5828 - val_loss: 0.2500 - val_accuracy: 0.6324\n",
            "Epoch 7/150\n",
            "63/63 [==============================] - 1s 9ms/step - loss: 0.2560 - accuracy: 0.6136 - val_loss: 0.2416 - val_accuracy: 0.6397\n",
            "Epoch 8/150\n",
            "63/63 [==============================] - 1s 9ms/step - loss: 0.2585 - accuracy: 0.5972 - val_loss: 0.2350 - val_accuracy: 0.6636\n",
            "Epoch 9/150\n",
            "63/63 [==============================] - 1s 9ms/step - loss: 0.2478 - accuracy: 0.6250 - val_loss: 0.2395 - val_accuracy: 0.6324\n",
            "Epoch 10/150\n",
            "63/63 [==============================] - 1s 9ms/step - loss: 0.2398 - accuracy: 0.6443 - val_loss: 0.2281 - val_accuracy: 0.6673\n",
            "Epoch 11/150\n",
            "63/63 [==============================] - 1s 9ms/step - loss: 0.2369 - accuracy: 0.6404 - val_loss: 0.2273 - val_accuracy: 0.6471\n",
            "Epoch 12/150\n",
            "63/63 [==============================] - 1s 9ms/step - loss: 0.2328 - accuracy: 0.6523 - val_loss: 0.2232 - val_accuracy: 0.6618\n",
            "Epoch 13/150\n",
            "63/63 [==============================] - 1s 9ms/step - loss: 0.2353 - accuracy: 0.6329 - val_loss: 0.2235 - val_accuracy: 0.6452\n",
            "Epoch 14/150\n",
            "63/63 [==============================] - 1s 9ms/step - loss: 0.2326 - accuracy: 0.6404 - val_loss: 0.2216 - val_accuracy: 0.6452\n",
            "Epoch 15/150\n",
            "63/63 [==============================] - 1s 9ms/step - loss: 0.2267 - accuracy: 0.6553 - val_loss: 0.2217 - val_accuracy: 0.6581\n",
            "Epoch 16/150\n",
            "63/63 [==============================] - 1s 9ms/step - loss: 0.2251 - accuracy: 0.6622 - val_loss: 0.2227 - val_accuracy: 0.6452\n",
            "Epoch 17/150\n",
            "63/63 [==============================] - 1s 9ms/step - loss: 0.2200 - accuracy: 0.6766 - val_loss: 0.2178 - val_accuracy: 0.6673\n",
            "Epoch 18/150\n",
            "63/63 [==============================] - 1s 9ms/step - loss: 0.2221 - accuracy: 0.6572 - val_loss: 0.2225 - val_accuracy: 0.6397\n",
            "Epoch 19/150\n",
            "63/63 [==============================] - 1s 9ms/step - loss: 0.2182 - accuracy: 0.6796 - val_loss: 0.2198 - val_accuracy: 0.6562\n",
            "Epoch 20/150\n",
            "63/63 [==============================] - 1s 9ms/step - loss: 0.2112 - accuracy: 0.7073 - val_loss: 0.2195 - val_accuracy: 0.6489\n",
            "Epoch 21/150\n",
            "63/63 [==============================] - 1s 9ms/step - loss: 0.2147 - accuracy: 0.6910 - val_loss: 0.2161 - val_accuracy: 0.6562\n",
            "Epoch 22/150\n",
            "63/63 [==============================] - 1s 9ms/step - loss: 0.2155 - accuracy: 0.6860 - val_loss: 0.2186 - val_accuracy: 0.6526\n",
            "Epoch 23/150\n",
            "63/63 [==============================] - 1s 9ms/step - loss: 0.2121 - accuracy: 0.6910 - val_loss: 0.2182 - val_accuracy: 0.6544\n",
            "Epoch 24/150\n",
            "63/63 [==============================] - 1s 9ms/step - loss: 0.2080 - accuracy: 0.7103 - val_loss: 0.2105 - val_accuracy: 0.6710\n",
            "Epoch 25/150\n",
            "63/63 [==============================] - 1s 9ms/step - loss: 0.2082 - accuracy: 0.6969 - val_loss: 0.2182 - val_accuracy: 0.6636\n",
            "Epoch 26/150\n",
            "63/63 [==============================] - 1s 9ms/step - loss: 0.2112 - accuracy: 0.6885 - val_loss: 0.2131 - val_accuracy: 0.6728\n",
            "Epoch 27/150\n",
            "63/63 [==============================] - 1s 9ms/step - loss: 0.2067 - accuracy: 0.6984 - val_loss: 0.2088 - val_accuracy: 0.6801\n",
            "Epoch 28/150\n",
            "63/63 [==============================] - 1s 9ms/step - loss: 0.2063 - accuracy: 0.7078 - val_loss: 0.2061 - val_accuracy: 0.6746\n",
            "Epoch 29/150\n",
            "63/63 [==============================] - 1s 9ms/step - loss: 0.2061 - accuracy: 0.7123 - val_loss: 0.2104 - val_accuracy: 0.6783\n",
            "Epoch 30/150\n",
            "63/63 [==============================] - 1s 9ms/step - loss: 0.2041 - accuracy: 0.6984 - val_loss: 0.2071 - val_accuracy: 0.7059\n",
            "Epoch 31/150\n",
            "63/63 [==============================] - 1s 9ms/step - loss: 0.2073 - accuracy: 0.7024 - val_loss: 0.2096 - val_accuracy: 0.6820\n",
            "Epoch 32/150\n",
            "63/63 [==============================] - 1s 9ms/step - loss: 0.2044 - accuracy: 0.6984 - val_loss: 0.2013 - val_accuracy: 0.7132\n",
            "Epoch 33/150\n",
            "63/63 [==============================] - 1s 9ms/step - loss: 0.2037 - accuracy: 0.7039 - val_loss: 0.2068 - val_accuracy: 0.6857\n",
            "Epoch 34/150\n",
            "63/63 [==============================] - 1s 9ms/step - loss: 0.1989 - accuracy: 0.7232 - val_loss: 0.2043 - val_accuracy: 0.6710\n",
            "Epoch 35/150\n",
            "63/63 [==============================] - 1s 9ms/step - loss: 0.2047 - accuracy: 0.7113 - val_loss: 0.2027 - val_accuracy: 0.6765\n",
            "Epoch 36/150\n",
            "63/63 [==============================] - 1s 9ms/step - loss: 0.1993 - accuracy: 0.7078 - val_loss: 0.2039 - val_accuracy: 0.6893\n",
            "Epoch 37/150\n",
            "63/63 [==============================] - 1s 9ms/step - loss: 0.1987 - accuracy: 0.7232 - val_loss: 0.2080 - val_accuracy: 0.6875\n",
            "Epoch 38/150\n",
            "63/63 [==============================] - 1s 9ms/step - loss: 0.1983 - accuracy: 0.7158 - val_loss: 0.1998 - val_accuracy: 0.7059\n",
            "Epoch 39/150\n",
            "63/63 [==============================] - 1s 9ms/step - loss: 0.1976 - accuracy: 0.7321 - val_loss: 0.2045 - val_accuracy: 0.6765\n",
            "Epoch 40/150\n",
            "63/63 [==============================] - 1s 9ms/step - loss: 0.1970 - accuracy: 0.7212 - val_loss: 0.1992 - val_accuracy: 0.7004\n",
            "Epoch 41/150\n",
            "63/63 [==============================] - 1s 9ms/step - loss: 0.1940 - accuracy: 0.7361 - val_loss: 0.1982 - val_accuracy: 0.7188\n",
            "Epoch 42/150\n",
            "63/63 [==============================] - 1s 9ms/step - loss: 0.1904 - accuracy: 0.7406 - val_loss: 0.1984 - val_accuracy: 0.7114\n",
            "Epoch 43/150\n",
            "63/63 [==============================] - 1s 9ms/step - loss: 0.1947 - accuracy: 0.7232 - val_loss: 0.2083 - val_accuracy: 0.6673\n",
            "Epoch 44/150\n",
            "63/63 [==============================] - 1s 9ms/step - loss: 0.1931 - accuracy: 0.7416 - val_loss: 0.2026 - val_accuracy: 0.6801\n",
            "Epoch 45/150\n",
            "63/63 [==============================] - 1s 9ms/step - loss: 0.1936 - accuracy: 0.7297 - val_loss: 0.2042 - val_accuracy: 0.6967\n",
            "Epoch 46/150\n",
            "63/63 [==============================] - 1s 9ms/step - loss: 0.1899 - accuracy: 0.7416 - val_loss: 0.2057 - val_accuracy: 0.6820\n",
            "Epoch 47/150\n",
            "63/63 [==============================] - 1s 9ms/step - loss: 0.1927 - accuracy: 0.7326 - val_loss: 0.1909 - val_accuracy: 0.7555\n",
            "Epoch 48/150\n",
            "63/63 [==============================] - 1s 9ms/step - loss: 0.1894 - accuracy: 0.7406 - val_loss: 0.1979 - val_accuracy: 0.7132\n",
            "Epoch 49/150\n",
            "63/63 [==============================] - 1s 9ms/step - loss: 0.1909 - accuracy: 0.7406 - val_loss: 0.2011 - val_accuracy: 0.7004\n",
            "Epoch 50/150\n",
            "63/63 [==============================] - 1s 9ms/step - loss: 0.1883 - accuracy: 0.7674 - val_loss: 0.2016 - val_accuracy: 0.6893\n",
            "Epoch 51/150\n",
            "63/63 [==============================] - 1s 9ms/step - loss: 0.1910 - accuracy: 0.7396 - val_loss: 0.1945 - val_accuracy: 0.7408\n",
            "Epoch 52/150\n",
            "63/63 [==============================] - 1s 9ms/step - loss: 0.1914 - accuracy: 0.7321 - val_loss: 0.1977 - val_accuracy: 0.7096\n",
            "Epoch 53/150\n",
            "63/63 [==============================] - 1s 9ms/step - loss: 0.1904 - accuracy: 0.7445 - val_loss: 0.1997 - val_accuracy: 0.6985\n",
            "Epoch 54/150\n",
            "63/63 [==============================] - 1s 9ms/step - loss: 0.1874 - accuracy: 0.7505 - val_loss: 0.1939 - val_accuracy: 0.7151\n",
            "Epoch 55/150\n",
            "63/63 [==============================] - 1s 9ms/step - loss: 0.1860 - accuracy: 0.7515 - val_loss: 0.2012 - val_accuracy: 0.7151\n",
            "Epoch 56/150\n",
            "63/63 [==============================] - 1s 9ms/step - loss: 0.1872 - accuracy: 0.7530 - val_loss: 0.1987 - val_accuracy: 0.7059\n",
            "Epoch 57/150\n",
            "63/63 [==============================] - 1s 9ms/step - loss: 0.1879 - accuracy: 0.7525 - val_loss: 0.2023 - val_accuracy: 0.6912\n",
            "Epoch 58/150\n",
            "63/63 [==============================] - 1s 9ms/step - loss: 0.1872 - accuracy: 0.7574 - val_loss: 0.1907 - val_accuracy: 0.7261\n",
            "Epoch 59/150\n",
            "63/63 [==============================] - 1s 9ms/step - loss: 0.1845 - accuracy: 0.7614 - val_loss: 0.1994 - val_accuracy: 0.7040\n",
            "Epoch 60/150\n",
            "63/63 [==============================] - 1s 9ms/step - loss: 0.1834 - accuracy: 0.7525 - val_loss: 0.1995 - val_accuracy: 0.7132\n",
            "Epoch 61/150\n",
            "63/63 [==============================] - 1s 9ms/step - loss: 0.1837 - accuracy: 0.7609 - val_loss: 0.2009 - val_accuracy: 0.6949\n",
            "Epoch 62/150\n",
            "63/63 [==============================] - 1s 9ms/step - loss: 0.1811 - accuracy: 0.7654 - val_loss: 0.1964 - val_accuracy: 0.7243\n",
            "Epoch 63/150\n",
            "63/63 [==============================] - 1s 9ms/step - loss: 0.1830 - accuracy: 0.7569 - val_loss: 0.1895 - val_accuracy: 0.7316\n",
            "Epoch 64/150\n",
            "63/63 [==============================] - 1s 9ms/step - loss: 0.1856 - accuracy: 0.7515 - val_loss: 0.1897 - val_accuracy: 0.7279\n",
            "Epoch 65/150\n",
            "63/63 [==============================] - 1s 9ms/step - loss: 0.1778 - accuracy: 0.7679 - val_loss: 0.1920 - val_accuracy: 0.7316\n",
            "Epoch 66/150\n",
            "63/63 [==============================] - 1s 9ms/step - loss: 0.1817 - accuracy: 0.7555 - val_loss: 0.1951 - val_accuracy: 0.7132\n",
            "Epoch 67/150\n",
            "63/63 [==============================] - 1s 9ms/step - loss: 0.1811 - accuracy: 0.7609 - val_loss: 0.1925 - val_accuracy: 0.7371\n",
            "Epoch 68/150\n",
            "63/63 [==============================] - 1s 9ms/step - loss: 0.1798 - accuracy: 0.7614 - val_loss: 0.1900 - val_accuracy: 0.7463\n",
            "Epoch 69/150\n",
            "63/63 [==============================] - 1s 9ms/step - loss: 0.1741 - accuracy: 0.7768 - val_loss: 0.1956 - val_accuracy: 0.7114\n",
            "Epoch 70/150\n",
            "63/63 [==============================] - 1s 9ms/step - loss: 0.1749 - accuracy: 0.7728 - val_loss: 0.1897 - val_accuracy: 0.7279\n",
            "Epoch 71/150\n",
            "63/63 [==============================] - 1s 9ms/step - loss: 0.1790 - accuracy: 0.7753 - val_loss: 0.1892 - val_accuracy: 0.7335\n",
            "Epoch 72/150\n",
            "63/63 [==============================] - 1s 9ms/step - loss: 0.1778 - accuracy: 0.7783 - val_loss: 0.1864 - val_accuracy: 0.7463\n",
            "Epoch 73/150\n",
            "63/63 [==============================] - 1s 9ms/step - loss: 0.1806 - accuracy: 0.7599 - val_loss: 0.1918 - val_accuracy: 0.7353\n",
            "Epoch 74/150\n",
            "63/63 [==============================] - 1s 9ms/step - loss: 0.1776 - accuracy: 0.7808 - val_loss: 0.1903 - val_accuracy: 0.7279\n",
            "Epoch 75/150\n",
            "63/63 [==============================] - 1s 9ms/step - loss: 0.1777 - accuracy: 0.7688 - val_loss: 0.1885 - val_accuracy: 0.7408\n",
            "Epoch 76/150\n",
            "63/63 [==============================] - 1s 9ms/step - loss: 0.1742 - accuracy: 0.7817 - val_loss: 0.1929 - val_accuracy: 0.7206\n",
            "Epoch 77/150\n",
            "63/63 [==============================] - 1s 9ms/step - loss: 0.1764 - accuracy: 0.7803 - val_loss: 0.1914 - val_accuracy: 0.7426\n",
            "Epoch 78/150\n",
            "63/63 [==============================] - 1s 9ms/step - loss: 0.1726 - accuracy: 0.7758 - val_loss: 0.1880 - val_accuracy: 0.7316\n",
            "Epoch 79/150\n",
            "63/63 [==============================] - 1s 9ms/step - loss: 0.1759 - accuracy: 0.7733 - val_loss: 0.1904 - val_accuracy: 0.7629\n",
            "Epoch 80/150\n",
            "63/63 [==============================] - 1s 9ms/step - loss: 0.1755 - accuracy: 0.7698 - val_loss: 0.1920 - val_accuracy: 0.7371\n",
            "Epoch 81/150\n",
            "63/63 [==============================] - 1s 11ms/step - loss: 0.1726 - accuracy: 0.7912 - val_loss: 0.1862 - val_accuracy: 0.7647\n",
            "Epoch 82/150\n",
            "63/63 [==============================] - 1s 9ms/step - loss: 0.1744 - accuracy: 0.7857 - val_loss: 0.1889 - val_accuracy: 0.7224\n",
            "Epoch 83/150\n",
            "63/63 [==============================] - 1s 9ms/step - loss: 0.1731 - accuracy: 0.7773 - val_loss: 0.1887 - val_accuracy: 0.7408\n",
            "Epoch 84/150\n",
            "63/63 [==============================] - 1s 9ms/step - loss: 0.1720 - accuracy: 0.7837 - val_loss: 0.1874 - val_accuracy: 0.7353\n",
            "Epoch 85/150\n",
            "63/63 [==============================] - 1s 9ms/step - loss: 0.1728 - accuracy: 0.7852 - val_loss: 0.1860 - val_accuracy: 0.7629\n",
            "Epoch 86/150\n",
            "63/63 [==============================] - 1s 9ms/step - loss: 0.1698 - accuracy: 0.8006 - val_loss: 0.1885 - val_accuracy: 0.7426\n",
            "Epoch 87/150\n",
            "63/63 [==============================] - 1s 9ms/step - loss: 0.1708 - accuracy: 0.7842 - val_loss: 0.1889 - val_accuracy: 0.7335\n",
            "Epoch 88/150\n",
            "63/63 [==============================] - 1s 9ms/step - loss: 0.1732 - accuracy: 0.7793 - val_loss: 0.1961 - val_accuracy: 0.7132\n",
            "Epoch 89/150\n",
            "63/63 [==============================] - 1s 9ms/step - loss: 0.1720 - accuracy: 0.7832 - val_loss: 0.1867 - val_accuracy: 0.7518\n",
            "Epoch 90/150\n",
            "63/63 [==============================] - 1s 9ms/step - loss: 0.1709 - accuracy: 0.7837 - val_loss: 0.1930 - val_accuracy: 0.7426\n",
            "Epoch 91/150\n",
            "63/63 [==============================] - 1s 9ms/step - loss: 0.1686 - accuracy: 0.7966 - val_loss: 0.1892 - val_accuracy: 0.7279\n",
            "Epoch 92/150\n",
            "63/63 [==============================] - 1s 9ms/step - loss: 0.1688 - accuracy: 0.7961 - val_loss: 0.1882 - val_accuracy: 0.7169\n",
            "Epoch 93/150\n",
            "63/63 [==============================] - 1s 9ms/step - loss: 0.1704 - accuracy: 0.7808 - val_loss: 0.1859 - val_accuracy: 0.7408\n",
            "Epoch 94/150\n",
            "63/63 [==============================] - 1s 9ms/step - loss: 0.1689 - accuracy: 0.8016 - val_loss: 0.1886 - val_accuracy: 0.7353\n",
            "Epoch 95/150\n",
            "63/63 [==============================] - 1s 9ms/step - loss: 0.1664 - accuracy: 0.7932 - val_loss: 0.1859 - val_accuracy: 0.7757\n",
            "Epoch 96/150\n",
            "63/63 [==============================] - 1s 9ms/step - loss: 0.1676 - accuracy: 0.8075 - val_loss: 0.1858 - val_accuracy: 0.7537\n",
            "Epoch 97/150\n",
            "63/63 [==============================] - 1s 9ms/step - loss: 0.1679 - accuracy: 0.7996 - val_loss: 0.1908 - val_accuracy: 0.7169\n",
            "Epoch 98/150\n",
            "63/63 [==============================] - 1s 9ms/step - loss: 0.1681 - accuracy: 0.7932 - val_loss: 0.1866 - val_accuracy: 0.7610\n",
            "Epoch 99/150\n",
            "63/63 [==============================] - 1s 9ms/step - loss: 0.1647 - accuracy: 0.7966 - val_loss: 0.1909 - val_accuracy: 0.7316\n",
            "Epoch 100/150\n",
            "63/63 [==============================] - 1s 9ms/step - loss: 0.1686 - accuracy: 0.7907 - val_loss: 0.1850 - val_accuracy: 0.7610\n",
            "Epoch 101/150\n",
            "63/63 [==============================] - 1s 9ms/step - loss: 0.1639 - accuracy: 0.8125 - val_loss: 0.1806 - val_accuracy: 0.7629\n",
            "Epoch 102/150\n",
            "63/63 [==============================] - 1s 9ms/step - loss: 0.1645 - accuracy: 0.8041 - val_loss: 0.1827 - val_accuracy: 0.7629\n",
            "Epoch 103/150\n",
            "63/63 [==============================] - 1s 9ms/step - loss: 0.1664 - accuracy: 0.7932 - val_loss: 0.1873 - val_accuracy: 0.7482\n",
            "Epoch 104/150\n",
            "63/63 [==============================] - 1s 11ms/step - loss: 0.1626 - accuracy: 0.8150 - val_loss: 0.1840 - val_accuracy: 0.7463\n",
            "Epoch 105/150\n",
            "63/63 [==============================] - 1s 9ms/step - loss: 0.1647 - accuracy: 0.8130 - val_loss: 0.1859 - val_accuracy: 0.7463\n",
            "Epoch 106/150\n",
            "63/63 [==============================] - 1s 9ms/step - loss: 0.1679 - accuracy: 0.7937 - val_loss: 0.1855 - val_accuracy: 0.7408\n",
            "Epoch 107/150\n",
            "63/63 [==============================] - 1s 9ms/step - loss: 0.1632 - accuracy: 0.8160 - val_loss: 0.1820 - val_accuracy: 0.7463\n",
            "Epoch 108/150\n",
            "63/63 [==============================] - 1s 9ms/step - loss: 0.1632 - accuracy: 0.8016 - val_loss: 0.1922 - val_accuracy: 0.7224\n",
            "Epoch 109/150\n",
            "63/63 [==============================] - 1s 9ms/step - loss: 0.1635 - accuracy: 0.8070 - val_loss: 0.1872 - val_accuracy: 0.7445\n",
            "Epoch 110/150\n",
            "63/63 [==============================] - 1s 9ms/step - loss: 0.1635 - accuracy: 0.8090 - val_loss: 0.1849 - val_accuracy: 0.7537\n",
            "Epoch 111/150\n",
            "63/63 [==============================] - 1s 9ms/step - loss: 0.1631 - accuracy: 0.8085 - val_loss: 0.1807 - val_accuracy: 0.7702\n",
            "Epoch 112/150\n",
            "63/63 [==============================] - 1s 9ms/step - loss: 0.1625 - accuracy: 0.8140 - val_loss: 0.1857 - val_accuracy: 0.7555\n",
            "Epoch 113/150\n",
            "63/63 [==============================] - 1s 9ms/step - loss: 0.1610 - accuracy: 0.8100 - val_loss: 0.1837 - val_accuracy: 0.7335\n",
            "Epoch 114/150\n",
            "63/63 [==============================] - 1s 9ms/step - loss: 0.1589 - accuracy: 0.8180 - val_loss: 0.1890 - val_accuracy: 0.7224\n",
            "Epoch 115/150\n",
            "63/63 [==============================] - 1s 9ms/step - loss: 0.1610 - accuracy: 0.8135 - val_loss: 0.1898 - val_accuracy: 0.7371\n",
            "Epoch 116/150\n",
            "63/63 [==============================] - 1s 9ms/step - loss: 0.1631 - accuracy: 0.8130 - val_loss: 0.1863 - val_accuracy: 0.7555\n",
            "Epoch 117/150\n",
            "63/63 [==============================] - 1s 9ms/step - loss: 0.1595 - accuracy: 0.8194 - val_loss: 0.1840 - val_accuracy: 0.7261\n",
            "Epoch 118/150\n",
            "63/63 [==============================] - 1s 9ms/step - loss: 0.1632 - accuracy: 0.7986 - val_loss: 0.1869 - val_accuracy: 0.7500\n",
            "Epoch 119/150\n",
            "63/63 [==============================] - 1s 9ms/step - loss: 0.1602 - accuracy: 0.8194 - val_loss: 0.1897 - val_accuracy: 0.7500\n",
            "Epoch 120/150\n",
            "63/63 [==============================] - 1s 9ms/step - loss: 0.1594 - accuracy: 0.8175 - val_loss: 0.1848 - val_accuracy: 0.7574\n",
            "Epoch 121/150\n",
            "63/63 [==============================] - 1s 9ms/step - loss: 0.1579 - accuracy: 0.8185 - val_loss: 0.1873 - val_accuracy: 0.7426\n",
            "Epoch 122/150\n",
            "63/63 [==============================] - 1s 9ms/step - loss: 0.1599 - accuracy: 0.8175 - val_loss: 0.1811 - val_accuracy: 0.7647\n",
            "Epoch 123/150\n",
            "63/63 [==============================] - 1s 9ms/step - loss: 0.1587 - accuracy: 0.8219 - val_loss: 0.1856 - val_accuracy: 0.7426\n",
            "Epoch 124/150\n",
            "63/63 [==============================] - 1s 9ms/step - loss: 0.1629 - accuracy: 0.8120 - val_loss: 0.1909 - val_accuracy: 0.7555\n",
            "Epoch 125/150\n",
            "63/63 [==============================] - 1s 9ms/step - loss: 0.1614 - accuracy: 0.8016 - val_loss: 0.1872 - val_accuracy: 0.7371\n",
            "Epoch 126/150\n",
            "63/63 [==============================] - 1s 9ms/step - loss: 0.1508 - accuracy: 0.8343 - val_loss: 0.1845 - val_accuracy: 0.7482\n",
            "Epoch 127/150\n",
            "63/63 [==============================] - 1s 9ms/step - loss: 0.1589 - accuracy: 0.8199 - val_loss: 0.1804 - val_accuracy: 0.7537\n",
            "Epoch 128/150\n",
            "63/63 [==============================] - 1s 9ms/step - loss: 0.1591 - accuracy: 0.8234 - val_loss: 0.1785 - val_accuracy: 0.7592\n",
            "Epoch 129/150\n",
            "63/63 [==============================] - 1s 9ms/step - loss: 0.1594 - accuracy: 0.8209 - val_loss: 0.1952 - val_accuracy: 0.7353\n",
            "Epoch 130/150\n",
            "63/63 [==============================] - 1s 9ms/step - loss: 0.1560 - accuracy: 0.8140 - val_loss: 0.1788 - val_accuracy: 0.7868\n",
            "Epoch 131/150\n",
            "63/63 [==============================] - 1s 9ms/step - loss: 0.1562 - accuracy: 0.8214 - val_loss: 0.1839 - val_accuracy: 0.7518\n",
            "Epoch 132/150\n",
            "63/63 [==============================] - 1s 9ms/step - loss: 0.1555 - accuracy: 0.8318 - val_loss: 0.1823 - val_accuracy: 0.7482\n",
            "Epoch 133/150\n",
            "63/63 [==============================] - 1s 9ms/step - loss: 0.1555 - accuracy: 0.8239 - val_loss: 0.1820 - val_accuracy: 0.7647\n",
            "Epoch 134/150\n",
            "63/63 [==============================] - 1s 9ms/step - loss: 0.1517 - accuracy: 0.8398 - val_loss: 0.1905 - val_accuracy: 0.7298\n",
            "Epoch 135/150\n",
            "63/63 [==============================] - 1s 9ms/step - loss: 0.1538 - accuracy: 0.8274 - val_loss: 0.1826 - val_accuracy: 0.7463\n",
            "Epoch 136/150\n",
            "63/63 [==============================] - 1s 9ms/step - loss: 0.1555 - accuracy: 0.8204 - val_loss: 0.1846 - val_accuracy: 0.7500\n",
            "Epoch 137/150\n",
            "63/63 [==============================] - 1s 9ms/step - loss: 0.1597 - accuracy: 0.8080 - val_loss: 0.1884 - val_accuracy: 0.7684\n",
            "Epoch 138/150\n",
            "63/63 [==============================] - 1s 9ms/step - loss: 0.1598 - accuracy: 0.8189 - val_loss: 0.1828 - val_accuracy: 0.7574\n",
            "Epoch 139/150\n",
            "63/63 [==============================] - 1s 9ms/step - loss: 0.1584 - accuracy: 0.8254 - val_loss: 0.1803 - val_accuracy: 0.7812\n",
            "Epoch 140/150\n",
            "63/63 [==============================] - 1s 10ms/step - loss: 0.1607 - accuracy: 0.8160 - val_loss: 0.1803 - val_accuracy: 0.7684\n",
            "Epoch 141/150\n",
            "63/63 [==============================] - 1s 9ms/step - loss: 0.1538 - accuracy: 0.8338 - val_loss: 0.1811 - val_accuracy: 0.7794\n",
            "Epoch 142/150\n",
            "63/63 [==============================] - 1s 9ms/step - loss: 0.1566 - accuracy: 0.8244 - val_loss: 0.1732 - val_accuracy: 0.7739\n",
            "Epoch 143/150\n",
            "63/63 [==============================] - 1s 9ms/step - loss: 0.1575 - accuracy: 0.8214 - val_loss: 0.1804 - val_accuracy: 0.7721\n",
            "Epoch 144/150\n",
            "63/63 [==============================] - 1s 9ms/step - loss: 0.1489 - accuracy: 0.8512 - val_loss: 0.1790 - val_accuracy: 0.7518\n",
            "Epoch 145/150\n",
            "63/63 [==============================] - 1s 9ms/step - loss: 0.1540 - accuracy: 0.8239 - val_loss: 0.1786 - val_accuracy: 0.7592\n",
            "Epoch 146/150\n",
            "63/63 [==============================] - 1s 9ms/step - loss: 0.1569 - accuracy: 0.8214 - val_loss: 0.1758 - val_accuracy: 0.7702\n",
            "Epoch 147/150\n",
            "63/63 [==============================] - 1s 9ms/step - loss: 0.1509 - accuracy: 0.8333 - val_loss: 0.1809 - val_accuracy: 0.7537\n",
            "Epoch 148/150\n",
            "63/63 [==============================] - 1s 9ms/step - loss: 0.1543 - accuracy: 0.8299 - val_loss: 0.1730 - val_accuracy: 0.7849\n",
            "Epoch 149/150\n",
            "63/63 [==============================] - 1s 9ms/step - loss: 0.1601 - accuracy: 0.8170 - val_loss: 0.1776 - val_accuracy: 0.7721\n",
            "Epoch 150/150\n",
            "63/63 [==============================] - 1s 9ms/step - loss: 0.1512 - accuracy: 0.8274 - val_loss: 0.1787 - val_accuracy: 0.7647\n"
          ],
          "name": "stdout"
        }
      ]
    },
    {
      "cell_type": "markdown",
      "metadata": {
        "id": "EIbBPh_4jlQS"
      },
      "source": [
        "##**Plot of accuracy vs epochs**"
      ]
    },
    {
      "cell_type": "code",
      "metadata": {
        "colab": {
          "base_uri": "https://localhost:8080/",
          "height": 295
        },
        "id": "OEgo_BAAjj79",
        "outputId": "4e9bad27-f3f2-4d0a-f4cb-7dc54ba986b5"
      },
      "source": [
        "loss_train = history.history['accuracy']\n",
        "loss_val = history.history['val_accuracy']\n",
        "epochs = range(1,151)\n",
        "plt.plot(epochs, loss_train, 'g', label='Training accuracy')\n",
        "plt.plot(epochs, loss_val, 'b', label='validation accuracy')\n",
        "plt.title('Training and Validation accuracy')\n",
        "plt.xlabel('Epochs')\n",
        "plt.ylabel('Accuracy')\n",
        "plt.legend()\n",
        "plt.show()"
      ],
      "execution_count": 596,
      "outputs": [
        {
          "output_type": "display_data",
          "data": {
            "image/png": "[encoded data removed]",
            "text/plain": [
              "<Figure size 432x288 with 1 Axes>"
            ]
          },
          "metadata": {
            "tags": [],
            "needs_background": "light"
          }
        }
      ]
    },
    {
      "cell_type": "markdown",
      "metadata": {
        "id": "akLP7mOGj8pc"
      },
      "source": [
        "##**Plot of loss vs epochs**"
      ]
    },
    {
      "cell_type": "code",
      "metadata": {
        "colab": {
          "base_uri": "https://localhost:8080/",
          "height": 295
        },
        "id": "A6WpJUdqj77H",
        "outputId": "adfdb967-387d-4a9a-d069-43e47be5c51f"
      },
      "source": [
        "loss_train = history.history['loss']\n",
        "loss_val = history.history['val_loss']\n",
        "epochs = range(1,151)\n",
        "plt.plot(epochs, loss_train, 'g', label='Training loss')\n",
        "plt.plot(epochs, loss_val, 'b', label='validation loss')\n",
        "plt.title('Training and Validation loss')\n",
        "plt.xlabel('Epochs')\n",
        "plt.ylabel('Loss')\n",
        "plt.legend()\n",
        "plt.show()"
      ],
      "execution_count": 599,
      "outputs": [
        {
          "output_type": "display_data",
          "data": {
            "image/png": "[encoded data removed]",
            "text/plain": [
              "<Figure size 432x288 with 1 Axes>"
            ]
          },
          "metadata": {
            "tags": [],
            "needs_background": "light"
          }
        }
      ]
    },
    {
      "cell_type": "markdown",
      "metadata": {
        "id": "qclfPMUHVfeU"
      },
      "source": [
        "##**Saving the Model**"
      ]
    },
    {
      "cell_type": "code",
      "metadata": {
        "id": "YFdpn3Sp6lFx",
        "colab": {
          "base_uri": "https://localhost:8080/"
        },
        "outputId": "1a80176f-f239-4a99-a480-6d24764f15e1"
      },
      "source": [
        "model.save('/content/drive/MyDrive/prism_model/model_congruent',save_format='H5')\n",
        "model = keras.models.load_model('/content/drive/MyDrive/prism_model/model_congruent', compile=False)\n",
        "model.summary()"
      ],
      "execution_count": 600,
      "outputs": [
        {
          "output_type": "stream",
          "text": [
            "INFO:tensorflow:Assets written to: /content/drive/MyDrive/prism_model/model_congruent/assets\n",
            "Model: \"model_61\"\n",
            "__________________________________________________________________________________________________\n",
            "Layer (type)                    Output Shape         Param #     Connected to                     \n",
            "==================================================================================================\n",
            "input_93 (InputLayer)           [(None, 128, 32, 1)] 0                                            \n",
            "__________________________________________________________________________________________________\n",
            "input_94 (InputLayer)           [(None, 128, 32, 1)] 0                                            \n",
            "__________________________________________________________________________________________________\n",
            "model_60 (Functional)           (None, 16)           24468       input_93[0][0]                   \n",
            "                                                                 input_94[0][0]                   \n",
            "__________________________________________________________________________________________________\n",
            "lambda_30 (Lambda)              (None, 1)            0           model_60[0][0]                   \n",
            "                                                                 model_60[1][0]                   \n",
            "==================================================================================================\n",
            "Total params: 24,468\n",
            "Trainable params: 24,468\n",
            "Non-trainable params: 0\n",
            "__________________________________________________________________________________________________\n"
          ],
          "name": "stdout"
        }
      ]
    },
    {
      "cell_type": "code",
      "metadata": {
        "colab": {
          "base_uri": "https://localhost:8080/"
        },
        "id": "9nvj6JoNfgRN",
        "outputId": "a3b36668-cf71-4b34-de93-4d861ae43806"
      },
      "source": [
        "# compute final accuracy on training and test sets\n",
        "y_pred = model.predict([tr_pairs[:, 0], tr_pairs[:, 1]])\n",
        "tr_acc = compute_accuracy(tr_y, y_pred)\n",
        "y_pred_test = model.predict([te_pairs[:, 0], te_pairs[:, 1]])\n",
        "te_acc = compute_accuracy(te_y, y_pred_test)\n",
        " \n",
        "print('* Accuracy on training set: %0.2f%%' % (100 * tr_acc))\n",
        "print('* Accuracy on validation set: %0.2f%%' % (100 * te_acc))"
      ],
      "execution_count": 601,
      "outputs": [
        {
          "output_type": "stream",
          "text": [
            "* Accuracy on training set: 89.50%\n",
            "* Accuracy on validation set: 76.54%\n"
          ],
          "name": "stdout"
        }
      ]
    },
    {
      "cell_type": "markdown",
      "metadata": {
        "id": "zlpdYu5iVnVF"
      },
      "source": [
        "Storing prediction on train data"
      ]
    },
    {
      "cell_type": "code",
      "metadata": {
        "id": "WGIaPvv46QkE"
      },
      "source": [
        "y_pred = model.predict([tr_pairs[:, 0], tr_pairs[:, 1]])"
      ],
      "execution_count": 602,
      "outputs": []
    },
    {
      "cell_type": "markdown",
      "metadata": {
        "id": "1QglC26sVxcc"
      },
      "source": [
        "True label for train data"
      ]
    },
    {
      "cell_type": "code",
      "metadata": {
        "id": "U9zG2slv6Sza",
        "colab": {
          "base_uri": "https://localhost:8080/"
        },
        "outputId": "2993ad16-f29c-4f1f-c04e-aed481799ef9"
      },
      "source": [
        "tr_y[:50]"
      ],
      "execution_count": 603,
      "outputs": [
        {
          "output_type": "execute_result",
          "data": {
            "text/plain": [
              "array([1, 0, 1, 0, 1, 0, 1, 0, 1, 0, 1, 0, 1, 0, 1, 0, 1, 0, 1, 0, 1, 0,\n",
              "       1, 0, 1, 0, 1, 0, 1, 0, 1, 0, 1, 0, 1, 0, 1, 0, 1, 0, 1, 0, 1, 0,\n",
              "       1, 0, 1, 0, 1, 0])"
            ]
          },
          "metadata": {
            "tags": []
          },
          "execution_count": 603
        }
      ]
    },
    {
      "cell_type": "markdown",
      "metadata": {
        "id": "1HCBhXIxV27b"
      },
      "source": [
        "Predicted label on train data"
      ]
    },
    {
      "cell_type": "code",
      "metadata": {
        "id": "UttVx3PR6dl3",
        "colab": {
          "base_uri": "https://localhost:8080/"
        },
        "outputId": "0d879f2b-7be6-47fa-f1e5-10ccf2cb494e"
      },
      "source": [
        "y_pred = y_pred.ravel() < 0.5\n",
        "y_pred[:50]"
      ],
      "execution_count": 604,
      "outputs": [
        {
          "output_type": "execute_result",
          "data": {
            "text/plain": [
              "array([ True, False,  True, False,  True, False,  True, False,  True,\n",
              "       False,  True, False,  True, False,  True, False,  True, False,\n",
              "        True,  True,  True, False,  True, False,  True, False,  True,\n",
              "        True,  True, False,  True, False,  True, False,  True, False,\n",
              "        True, False,  True, False,  True, False, False, False,  True,\n",
              "       False,  True, False,  True, False])"
            ]
          },
          "metadata": {
            "tags": []
          },
          "execution_count": 604
        }
      ]
    },
    {
      "cell_type": "markdown",
      "metadata": {
        "id": "EVaUDWDnWD6P"
      },
      "source": [
        "Storing prediction on test data"
      ]
    },
    {
      "cell_type": "code",
      "metadata": {
        "id": "xXTWrEhEJrtU"
      },
      "source": [
        "y_pred_test = model.predict([te_pairs[:, 0], te_pairs[:, 1]])"
      ],
      "execution_count": 605,
      "outputs": []
    },
    {
      "cell_type": "markdown",
      "metadata": {
        "id": "jGb_h8WXWJ_B"
      },
      "source": [
        "True label for test data"
      ]
    },
    {
      "cell_type": "code",
      "metadata": {
        "id": "pPE9RmTeLBKl",
        "colab": {
          "base_uri": "https://localhost:8080/"
        },
        "outputId": "822bebe6-319a-4c7d-bef3-9e9a8dcc7fb4"
      },
      "source": [
        "te_y[:10]"
      ],
      "execution_count": 606,
      "outputs": [
        {
          "output_type": "execute_result",
          "data": {
            "text/plain": [
              "array([1, 0, 1, 0, 1, 0, 1, 0, 1, 0])"
            ]
          },
          "metadata": {
            "tags": []
          },
          "execution_count": 606
        }
      ]
    },
    {
      "cell_type": "markdown",
      "metadata": {
        "id": "qRh2FI22WUN5"
      },
      "source": [
        "Predicted label on test data"
      ]
    },
    {
      "cell_type": "code",
      "metadata": {
        "id": "rKkPXdwa9Mtc",
        "colab": {
          "base_uri": "https://localhost:8080/"
        },
        "outputId": "df9125a6-1116-4cb1-ef3a-44d45f50dfa4"
      },
      "source": [
        "y_pred_test[:10]"
      ],
      "execution_count": 607,
      "outputs": [
        {
          "output_type": "execute_result",
          "data": {
            "text/plain": [
              "array([[8.0740047e-01],\n",
              "       [6.6455615e-01],\n",
              "       [3.1622776e-04],\n",
              "       [6.6632408e-01],\n",
              "       [6.7497247e-01],\n",
              "       [7.3326957e-01],\n",
              "       [5.5339134e-01],\n",
              "       [4.4182035e-01],\n",
              "       [6.9493878e-01],\n",
              "       [7.6498985e-01]], dtype=float32)"
            ]
          },
          "metadata": {
            "tags": []
          },
          "execution_count": 607
        }
      ]
    },
    {
      "cell_type": "code",
      "metadata": {
        "id": "4JTIV8jcLIgF",
        "colab": {
          "base_uri": "https://localhost:8080/"
        },
        "outputId": "3b01e789-cdf1-4eee-c5dc-36ff83d860fd"
      },
      "source": [
        "y_pred_test = y_pred_test.ravel() < 0.5\n",
        "y_pred_test[:10]"
      ],
      "execution_count": 608,
      "outputs": [
        {
          "output_type": "execute_result",
          "data": {
            "text/plain": [
              "array([False, False,  True, False, False, False, False,  True, False,\n",
              "       False])"
            ]
          },
          "metadata": {
            "tags": []
          },
          "execution_count": 608
        }
      ]
    },
    {
      "cell_type": "markdown",
      "metadata": {
        "id": "hEiy0ZTNBl6s"
      },
      "source": [
        "# **Computing Performance Metrics**"
      ]
    },
    {
      "cell_type": "markdown",
      "metadata": {
        "id": "Vw4IeRcFWef5"
      },
      "source": [
        "###**ROC-AUC Score**"
      ]
    },
    {
      "cell_type": "code",
      "metadata": {
        "id": "21qW0tHP6fv_",
        "colab": {
          "base_uri": "https://localhost:8080/"
        },
        "outputId": "a85c2046-5f6d-4eb6-8228-6c67c6805859"
      },
      "source": [
        "from sklearn.metrics import roc_auc_score\n",
        "print(\"roc_auc_score value for training: \",  sklearn.metrics.roc_auc_score(tr_y, y_pred))\n",
        "print(\"roc_auc_score value for validation: \" , sklearn.metrics.roc_auc_score(te_y, y_pred_test))"
      ],
      "execution_count": 609,
      "outputs": [
        {
          "output_type": "stream",
          "text": [
            "roc_auc_score value for training:  0.895\n",
            "roc_auc_score value for validation:  0.7653846153846154\n"
          ],
          "name": "stdout"
        }
      ]
    },
    {
      "cell_type": "markdown",
      "metadata": {
        "id": "cZRCjCgQr7D6"
      },
      "source": [
        "###**Matthews Corrcoef**"
      ]
    },
    {
      "cell_type": "code",
      "metadata": {
        "id": "qEjQlbpU6iCn",
        "colab": {
          "base_uri": "https://localhost:8080/"
        },
        "outputId": "f1b9b42c-04de-4470-94a7-920b0f49e332"
      },
      "source": [
        "from sklearn.metrics import matthews_corrcoef\n",
        "print(\"matthews_corrcoef on taining data : \" , sklearn.metrics.matthews_corrcoef(tr_y, y_pred))\n",
        "print(\"matthews_corrcoef on validation data : \" , sklearn.metrics.matthews_corrcoef(te_y, y_pred_test))"
      ],
      "execution_count": 610,
      "outputs": [
        {
          "output_type": "stream",
          "text": [
            "matthews_corrcoef on taining data :  0.7924142016040873\n",
            "matthews_corrcoef on validation data :  0.5310206610205516\n"
          ],
          "name": "stdout"
        }
      ]
    },
    {
      "cell_type": "markdown",
      "metadata": {
        "id": "HLTOf8b8r-7y"
      },
      "source": [
        "###**F1-Score**"
      ]
    },
    {
      "cell_type": "code",
      "metadata": {
        "id": "pATRQw8rXKbu",
        "colab": {
          "base_uri": "https://localhost:8080/"
        },
        "outputId": "0b53dd40-7484-4c63-8a47-cb5847c3b4c3"
      },
      "source": [
        "from sklearn.metrics import f1_score\n",
        "print(\"f1_score on training data : \" , f1_score(tr_y, y_pred))\n",
        "print(\"f1_score on validation data : \" , f1_score(te_y, y_pred_test))"
      ],
      "execution_count": 611,
      "outputs": [
        {
          "output_type": "stream",
          "text": [
            "f1_score on training data :  0.8989412897016362\n",
            "f1_score on validation data :  0.7617187500000001\n"
          ],
          "name": "stdout"
        }
      ]
    },
    {
      "cell_type": "markdown",
      "metadata": {
        "id": "SPOgJP3OCNDa"
      },
      "source": [
        "# **Conclusion**"
      ]
    },
    {
      "cell_type": "markdown",
      "metadata": {
        "id": "bcFGcWb4CURV"
      },
      "source": [
        "Finally, the model is trained on the Siamese CNN network. There may be some model overfitting due to the smaller dataset (which can easily be removed by using some augmentation techniques) but inspite of that the results are really very nice and impressive."
      ]
    }
  ]
}